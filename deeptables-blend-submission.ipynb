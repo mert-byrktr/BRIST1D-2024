{
 "cells": [
  {
   "cell_type": "code",
   "execution_count": 1,
   "id": "7f8b581f",
   "metadata": {
    "_cell_guid": "b1076dfc-b9ad-4769-8c92-a6c4dae69d19",
    "_uuid": "8f2839f25d086af736a60e9eeb907d3b93b6e0e5",
    "execution": {
     "iopub.execute_input": "2024-10-27T22:29:20.176272Z",
     "iopub.status.busy": "2024-10-27T22:29:20.175654Z",
     "iopub.status.idle": "2024-10-27T22:29:21.037297Z",
     "shell.execute_reply": "2024-10-27T22:29:21.036157Z"
    },
    "papermill": {
     "duration": 0.868951,
     "end_time": "2024-10-27T22:29:21.039944",
     "exception": false,
     "start_time": "2024-10-27T22:29:20.170993",
     "status": "completed"
    },
    "tags": []
   },
   "outputs": [],
   "source": [
    "import numpy as np # linear algebra\n",
    "import pandas as pd # data processing, CSV file I/O (e.g. pd.read_csv)"
   ]
  },
  {
   "cell_type": "code",
   "execution_count": 2,
   "id": "e4f17623",
   "metadata": {
    "execution": {
     "iopub.execute_input": "2024-10-27T22:29:21.046876Z",
     "iopub.status.busy": "2024-10-27T22:29:21.046313Z",
     "iopub.status.idle": "2024-10-27T22:29:21.102891Z",
     "shell.execute_reply": "2024-10-27T22:29:21.101767Z"
    },
    "papermill": {
     "duration": 0.062748,
     "end_time": "2024-10-27T22:29:21.105482",
     "exception": false,
     "start_time": "2024-10-27T22:29:21.042734",
     "status": "completed"
    },
    "tags": []
   },
   "outputs": [],
   "source": [
    "xgboost_sub = pd.read_csv('/kaggle/input/cb-lgb-xgb/xgb_submission.csv')\n",
    "catboost_sub = pd.read_csv('/kaggle/input/cb-lgb-xgb/cb_submission.csv')\n",
    "lgb_sub = pd.read_csv('/kaggle/input/cb-lgb-xgb/lgb_submission.csv')\n",
    "# ensemble_sub = pd.read_csv('/kaggle/input/ensemble-brist/submission (10).csv')\n",
    "ensemble_sub = pd.read_csv('/kaggle/input/berkan-blend/blend.csv')"
   ]
  },
  {
   "cell_type": "code",
   "execution_count": 3,
   "id": "75f7d02b",
   "metadata": {
    "execution": {
     "iopub.execute_input": "2024-10-27T22:29:21.112533Z",
     "iopub.status.busy": "2024-10-27T22:29:21.111712Z",
     "iopub.status.idle": "2024-10-27T22:29:21.124143Z",
     "shell.execute_reply": "2024-10-27T22:29:21.122973Z"
    },
    "papermill": {
     "duration": 0.018712,
     "end_time": "2024-10-27T22:29:21.126689",
     "exception": false,
     "start_time": "2024-10-27T22:29:21.107977",
     "status": "completed"
    },
    "tags": []
   },
   "outputs": [],
   "source": [
    "blended_sub = xgboost_sub.copy()\n",
    "\n",
    "\n",
    "# Define custom weights for each model\n",
    "xgboost_weight = 0.05\n",
    "catboost_weight = 0.05\n",
    "ensemble_weight = 0.9\n",
    "\n",
    "# Calculate the weighted sum of predictions\n",
    "blended_sub['bg+1:00'] = (\n",
    "    (xgboost_sub['bg+1:00'] * xgboost_weight) +\n",
    "    (catboost_sub['bg+1:00'] * catboost_weight) +\n",
    "    (ensemble_sub['bg+1:00'] * ensemble_weight)\n",
    ") / (xgboost_weight + catboost_weight + ensemble_weight)\n",
    "\n",
    "# blended_sub['bg+1:00'] = (xgboost_sub['bg+1:00'] + catboost_sub['bg+1:00'] + ensemble_sub['bg+1:00']) / 3"
   ]
  },
  {
   "cell_type": "code",
   "execution_count": 4,
   "id": "2b9bd083",
   "metadata": {
    "execution": {
     "iopub.execute_input": "2024-10-27T22:29:21.133263Z",
     "iopub.status.busy": "2024-10-27T22:29:21.132835Z",
     "iopub.status.idle": "2024-10-27T22:29:21.153389Z",
     "shell.execute_reply": "2024-10-27T22:29:21.152191Z"
    },
    "papermill": {
     "duration": 0.026838,
     "end_time": "2024-10-27T22:29:21.156018",
     "exception": false,
     "start_time": "2024-10-27T22:29:21.129180",
     "status": "completed"
    },
    "tags": []
   },
   "outputs": [
    {
     "name": "stdout",
     "output_type": "stream",
     "text": [
      "Submission file created: (3644, 2)\n"
     ]
    }
   ],
   "source": [
    "blended_sub.to_csv('submission.csv', index=False)\n",
    "print(\"Submission file created:\",blended_sub.shape)"
   ]
  },
  {
   "cell_type": "code",
   "execution_count": null,
   "id": "132d761d",
   "metadata": {
    "papermill": {
     "duration": 0.002287,
     "end_time": "2024-10-27T22:29:21.161036",
     "exception": false,
     "start_time": "2024-10-27T22:29:21.158749",
     "status": "completed"
    },
    "tags": []
   },
   "outputs": [],
   "source": []
  }
 ],
 "metadata": {
  "kaggle": {
   "accelerator": "none",
   "dataSources": [
    {
     "databundleVersionId": 9553358,
     "sourceId": 82611,
     "sourceType": "competition"
    },
    {
     "datasetId": 5932822,
     "sourceId": 9701699,
     "sourceType": "datasetVersion"
    },
    {
     "datasetId": 5939203,
     "sourceId": 9710007,
     "sourceType": "datasetVersion"
    },
    {
     "datasetId": 5947197,
     "sourceId": 9720514,
     "sourceType": "datasetVersion"
    },
    {
     "datasetId": 5953360,
     "sourceId": 9728741,
     "sourceType": "datasetVersion"
    },
    {
     "datasetId": 5961069,
     "sourceId": 9739069,
     "sourceType": "datasetVersion"
    }
   ],
   "dockerImageVersionId": 30786,
   "isGpuEnabled": false,
   "isInternetEnabled": true,
   "language": "python",
   "sourceType": "notebook"
  },
  "kernelspec": {
   "display_name": "Python 3",
   "language": "python",
   "name": "python3"
  },
  "language_info": {
   "codemirror_mode": {
    "name": "ipython",
    "version": 3
   },
   "file_extension": ".py",
   "mimetype": "text/x-python",
   "name": "python",
   "nbconvert_exporter": "python",
   "pygments_lexer": "ipython3",
   "version": "3.10.14"
  },
  "papermill": {
   "default_parameters": {},
   "duration": 4.662477,
   "end_time": "2024-10-27T22:29:21.684546",
   "environment_variables": {},
   "exception": null,
   "input_path": "__notebook__.ipynb",
   "output_path": "__notebook__.ipynb",
   "parameters": {},
   "start_time": "2024-10-27T22:29:17.022069",
   "version": "2.6.0"
  }
 },
 "nbformat": 4,
 "nbformat_minor": 5
}
